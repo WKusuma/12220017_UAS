{
 "cells": [
  {
   "cell_type": "code",
   "execution_count": 201,
   "metadata": {},
   "outputs": [],
   "source": [
    "import numpy as np\n",
    "import pandas as pd\n",
    "import json\n",
    "import matplotlib.pyplot as plt\n",
    "from matplotlib import cm\n",
    "import streamlit as st"
   ]
  },
  {
   "cell_type": "code",
   "execution_count": 202,
   "metadata": {},
   "outputs": [],
   "source": [
    "##### Read Data CSV dan ubah ke data frame\n",
    "csv = pd.read_csv(\"produksi_minyak_mentah.csv\")\n",
    "df = pd.DataFrame(csv)\n",
    "\n",
    "kode_csv = list(df['kode_negara'].unique())\n",
    "#print(f\"kode_negara: {kode_csv}\")"
   ]
  },
  {
   "cell_type": "code",
   "execution_count": 203,
   "metadata": {},
   "outputs": [],
   "source": [
    "##### Read Data Json\n",
    "with open (\"kode_negara_lengkap.json\") as f:\n",
    "    file_json = json.load(f)\n",
    "df2 = pd.DataFrame(file_json)\n",
    "\n",
    "##### Mengambil value alpha-3 dan mengubahnya menjadi list\n",
    "#kode_json = list(map(lambda kode_json: kode_json['alpha-3'], file_json))\n",
    "kode_json = df2['alpha-3'].tolist()\n",
    "#print(kode_json)\n",
    "\n",
    "##### Mengambil value name dan mengubahnya menjadi list\n",
    "#nama_negara = list(map(lambda nama_negara: nama_negara['name'], file_json))\n",
    "nama_negara = df2['name'].tolist()\n",
    "#print(nama_negara)"
   ]
  },
  {
   "cell_type": "code",
   "execution_count": 204,
   "metadata": {},
   "outputs": [],
   "source": [
    "##### User inputs on the control panel\n",
    "st.sidebar.subheader(\"Pengaturan konfigurasi tampilan\")\n",
    "list_kode=[]\n",
    "for k in kode_csv:\n",
    "    if k not in kode_json:\n",
    "        continue\n",
    "    list_kode.append(k)\n",
    "#print(list_kode)\n",
    "\n",
    "##### Menghilangkan yang bukan Negara\n",
    "for v in kode_csv:\n",
    "    if v in list_kode:\n",
    "        continue\n",
    "    df = df[df.kode_negara != v]\n",
    "#print(df)"
   ]
  },
  {
   "cell_type": "code",
   "execution_count": 205,
   "metadata": {},
   "outputs": [],
   "source": [
    "##### Membuat list nama-nama Negara\n",
    "list_negara=[]\n",
    "for i in file_json:\n",
    "    if i['alpha-3'] not in list_kode:\n",
    "        continue\n",
    "    list_negara.append(i['name'])\n",
    "#print(list_negara)"
   ]
  },
  {
   "cell_type": "code",
   "execution_count": 206,
   "metadata": {},
   "outputs": [],
   "source": [
    "##### User input\n",
    "negara = st.sidebar.selectbox(\"Pilih Negara\", list_negara)\n",
    "kode = df2[df2['name']==negara]['alpha-3'].tolist()[0]\n",
    "n_tampil = st.sidebar.number_input(\"Jumlah baris dalam tabel yang ditampilkan\", min_value=1, max_value=len(list_kode), value=10)\n",
    "\n",
    "list_tahun = list(df['tahun'].unique())\n",
    "tahun = st.sidebar.selectbox(\"Pilih Tahun\", list_tahun)"
   ]
  },
  {
   "cell_type": "code",
   "execution_count": 207,
   "metadata": {},
   "outputs": [
    {
     "data": {
      "text/html": [
       "<div>\n",
       "<style scoped>\n",
       "    .dataframe tbody tr th:only-of-type {\n",
       "        vertical-align: middle;\n",
       "    }\n",
       "\n",
       "    .dataframe tbody tr th {\n",
       "        vertical-align: top;\n",
       "    }\n",
       "\n",
       "    .dataframe thead th {\n",
       "        text-align: right;\n",
       "    }\n",
       "</style>\n",
       "<table border=\"1\" class=\"dataframe\">\n",
       "  <thead>\n",
       "    <tr style=\"text-align: right;\">\n",
       "      <th></th>\n",
       "      <th>kode_negara</th>\n",
       "      <th>tahun</th>\n",
       "      <th>produksi</th>\n",
       "    </tr>\n",
       "  </thead>\n",
       "  <tbody>\n",
       "    <tr>\n",
       "      <th>0</th>\n",
       "      <td>AUS</td>\n",
       "      <td>1971</td>\n",
       "      <td>14226194.0</td>\n",
       "    </tr>\n",
       "    <tr>\n",
       "      <th>1</th>\n",
       "      <td>AUS</td>\n",
       "      <td>1972</td>\n",
       "      <td>15029094.0</td>\n",
       "    </tr>\n",
       "    <tr>\n",
       "      <th>2</th>\n",
       "      <td>AUS</td>\n",
       "      <td>1973</td>\n",
       "      <td>18720577.0</td>\n",
       "    </tr>\n",
       "    <tr>\n",
       "      <th>3</th>\n",
       "      <td>AUS</td>\n",
       "      <td>1974</td>\n",
       "      <td>18498696.0</td>\n",
       "    </tr>\n",
       "    <tr>\n",
       "      <th>4</th>\n",
       "      <td>AUS</td>\n",
       "      <td>1975</td>\n",
       "      <td>1973607.0</td>\n",
       "    </tr>\n",
       "    <tr>\n",
       "      <th>...</th>\n",
       "      <td>...</td>\n",
       "      <td>...</td>\n",
       "      <td>...</td>\n",
       "    </tr>\n",
       "    <tr>\n",
       "      <th>5834</th>\n",
       "      <td>ZWE</td>\n",
       "      <td>2011</td>\n",
       "      <td>0.0</td>\n",
       "    </tr>\n",
       "    <tr>\n",
       "      <th>5835</th>\n",
       "      <td>ZWE</td>\n",
       "      <td>2012</td>\n",
       "      <td>0.0</td>\n",
       "    </tr>\n",
       "    <tr>\n",
       "      <th>5836</th>\n",
       "      <td>ZWE</td>\n",
       "      <td>2013</td>\n",
       "      <td>0.0</td>\n",
       "    </tr>\n",
       "    <tr>\n",
       "      <th>5837</th>\n",
       "      <td>ZWE</td>\n",
       "      <td>2014</td>\n",
       "      <td>0.0</td>\n",
       "    </tr>\n",
       "    <tr>\n",
       "      <th>5838</th>\n",
       "      <td>ZWE</td>\n",
       "      <td>2015</td>\n",
       "      <td>0.0</td>\n",
       "    </tr>\n",
       "  </tbody>\n",
       "</table>\n",
       "<p>5633 rows × 3 columns</p>\n",
       "</div>"
      ],
      "text/plain": [
       "     kode_negara  tahun    produksi\n",
       "0            AUS   1971  14226194.0\n",
       "1            AUS   1972  15029094.0\n",
       "2            AUS   1973  18720577.0\n",
       "3            AUS   1974  18498696.0\n",
       "4            AUS   1975   1973607.0\n",
       "...          ...    ...         ...\n",
       "5834         ZWE   2011         0.0\n",
       "5835         ZWE   2012         0.0\n",
       "5836         ZWE   2013         0.0\n",
       "5837         ZWE   2014         0.0\n",
       "5838         ZWE   2015         0.0\n",
       "\n",
       "[5633 rows x 3 columns]"
      ]
     },
     "execution_count": 207,
     "metadata": {},
     "output_type": "execute_result"
    }
   ],
   "source": [
    "# Mengubah string menjadi float pada data produksi\n",
    "df['produksi'] = df['produksi'].astype(str).str.replace(\".\", \"\", regex=True).astype(float)\n",
    "df['produksi'] = df['produksi'].astype(str).str.replace(\",\", \"\", regex=True).astype(float)\n",
    "df['produksi'] = pd.to_numeric(df['produksi'], errors='coerce')\n",
    "df"
   ]
  },
  {
   "cell_type": "code",
   "execution_count": 208,
   "metadata": {},
   "outputs": [
    {
     "data": {
      "text/plain": [
       "\"df = df.groupby(['kode_negara'], as_index=False).agg({'produksi':'sum'})\\ndf\""
      ]
     },
     "execution_count": 208,
     "metadata": {},
     "output_type": "execute_result"
    }
   ],
   "source": [
    "'''df = df.groupby(['kode_negara'], as_index=False).agg({'produksi':'sum'})\n",
    "df'''"
   ]
  },
  {
   "cell_type": "code",
   "execution_count": 209,
   "metadata": {},
   "outputs": [
    {
     "name": "stdout",
     "output_type": "stream",
     "text": [
      "   kode_negara  tahun    produksi\n",
      "0          AUS   1971  14226194.0\n",
      "1          AUS   1972  15029094.0\n",
      "2          AUS   1973  18720577.0\n",
      "3          AUS   1974  18498696.0\n",
      "4          AUS   1975   1973607.0\n",
      "5          AUS   1976  20177769.0\n",
      "6          AUS   1977   2125931.0\n",
      "7          AUS   1978  20694803.0\n",
      "8          AUS   1979  20828964.0\n",
      "9          AUS   1980  19471877.0\n",
      "10         AUS   1981  19007475.0\n",
      "11         AUS   1982  18706129.0\n",
      "12         AUS   1983  18220054.0\n",
      "13         AUS   1984  22148899.0\n",
      "14         AUS   1985   2546886.0\n",
      "15         AUS   1986  26561559.0\n",
      "16         AUS   1987  26399764.0\n",
      "17         AUS   1988  26322923.0\n",
      "18         AUS   1989  23679705.0\n",
      "19         AUS   1990  26752604.0\n",
      "20         AUS   1991  26717935.0\n",
      "21         AUS   1992  23439126.0\n",
      "22         AUS   1993  22940108.0\n",
      "23         AUS   1994  21286521.0\n",
      "24         AUS   1995   2271844.0\n",
      "25         AUS   1996   2053957.0\n",
      "26         AUS   1997  20494396.0\n",
      "27         AUS   1998  22008258.0\n",
      "28         AUS   1999  16551631.0\n",
      "29         AUS   2000  25081157.0\n",
      "30         AUS   2001  26611828.0\n",
      "31         AUS   2002  30307711.0\n",
      "32         AUS   2003  29403176.0\n",
      "33         AUS   2004  25785035.0\n",
      "34         AUS   2005  22928552.0\n",
      "35         AUS   2006  20414553.0\n",
      "36         AUS   2007  23214306.0\n",
      "37         AUS   2008  21500836.0\n",
      "38         AUS   2009  22170045.0\n",
      "39         AUS   2010  23141817.0\n",
      "40         AUS   2011  22232029.0\n",
      "41         AUS   2012  20728672.0\n",
      "42         AUS   2013  17979347.0\n",
      "43         AUS   2014  16925631.0\n",
      "44         AUS   2015  16313153.0\n"
     ]
    }
   ],
   "source": [
    "dfA = pd.DataFrame(df,columns= ['kode_negara','tahun','produksi'])\n",
    "dfA=dfA.loc[dfA['kode_negara']=='AUS']\n",
    "dfA['produksi'] = pd.to_numeric(dfA['produksi'], errors='coerce')\n",
    "print(dfA)"
   ]
  },
  {
   "cell_type": "code",
   "execution_count": 210,
   "metadata": {},
   "outputs": [
    {
     "data": {
      "text/plain": [
       "<matplotlib.legend.Legend at 0x1d9bdb6dfd0>"
      ]
     },
     "execution_count": 210,
     "metadata": {},
     "output_type": "execute_result"
    },
    {
     "data": {
      "image/png": "[encoded data removed]",
      "text/plain": [
       "<Figure size 432x288 with 1 Axes>"
      ]
     },
     "metadata": {
      "needs_background": "light"
     },
     "output_type": "display_data"
    }
   ],
   "source": [
    "fig, ax = plt.subplots()\n",
    "ax.plot(dfA['tahun'], dfA['produksi'], label = dfA['kode_negara'])\n",
    "ax.set_title(\"Grafik Jumlah Produksi terhadap Tahun\")\n",
    "ax.set_xlabel(\"Tahun\", fontsize = 12)\n",
    "ax.set_ylabel(\"Jumlah Produksi\", fontsize = 12)\n",
    "ax.legend(fontsize = 10)\n",
    "#plt.show"
   ]
  },
  {
   "cell_type": "code",
   "execution_count": 211,
   "metadata": {},
   "outputs": [],
   "source": [
    "dfB = pd.DataFrame(df,columns= ['kode_negara','tahun','produksi'])\n",
    "dfB = dfB.loc[dfB['tahun']==tahun]\n",
    "dfB['produksi'] = pd.to_numeric(dfB['produksi'], errors='coerce')\n",
    "dfB = dfB.sort_values(by='produksi', ascending = False)"
   ]
  },
  {
   "cell_type": "code",
   "execution_count": 212,
   "metadata": {},
   "outputs": [
    {
     "data": {
      "text/plain": [
       "Text(0, 0.5, 'Jumlah Produksi')"
      ]
     },
     "execution_count": 212,
     "metadata": {},
     "output_type": "execute_result"
    },
    {
     "data": {
      "image/png": "[encoded data removed]",
      "text/plain": [
       "<Figure size 432x288 with 1 Axes>"
      ]
     },
     "metadata": {
      "needs_background": "light"
     },
     "output_type": "display_data"
    }
   ],
   "source": [
    "figB, ax = plt.subplots()\n",
    "cmap = cm.get_cmap('tab10')\n",
    "colors = cmap.colors[:len(list_negara)]\n",
    "ax.bar(dfB['kode_negara'].head(n_tampil), dfB['produksi'].head(n_tampil) ,label=list_negara, color=colors)\n",
    "ax.set_title(f'Grafik Jumlah Produksi Minyak {n_tampil} besar Negara pada Tahun {tahun}')\n",
    "ax.set_xlabel(\"Kode Negara\", fontsize=13)\n",
    "ax.set_ylabel(\"Jumlah Produksi\", fontsize=13)"
   ]
  },
  {
   "cell_type": "code",
   "execution_count": 222,
   "metadata": {},
   "outputs": [
    {
     "name": "stdout",
     "output_type": "stream",
     "text": [
      "Total produksi: [884595134.0, 51301535.0, 0.0, 3618726630.0, 4448493.0, 326734934.0, 0.0, 66997465.0, 163945430.0, 14693655.0, 54530173.0, 0.0, 0.0, 138818054.0, 17332699.0, 412028.0, 0.0, 4951418106.0, 87024580.0, 56909237.0, 3133738433.0, 20997091.0, 0.0, 2566285.0, 33867963.0, 124868.0, 0.0, 116453363.0, 3310952313.0, 13233864867.0, 472080.0, 2042144146.0, 317610809.0, 0.0, 512303049.0, 210463.0, 45828736.0, 0.0, 1982913348.0, 338216366.0, 4162849.0, 0.0, 31835859.0, 1902970602.0, 1056705282.0, 26582732.0, 0.0, 1472833037.0, 0.0, 0.0, 1974809.0, 24197563.0, 0.0, 0.0, 1149007187.0, 2521788111.0, 7921565838.0, 29348251.0, 1235659259.0, 0.0, 4251163.0, 0.0, 1069636771.0, 0.0, 76983.0, 377625.0, 3744855642.0, 90485017.0, 0.0, 234105956.0, 16217075.0, 313006523.0, 9989339389.0, 16955430171.0, 0.0, 19435.0, 7298304.0, 240442522.0, 3849210.0, 0.0, 161156956.0, 71780640.0, 3861736627.0, 0.0, 313168721.0, 0.0, 22805870.0, 0.0, 1519266956.0, 340164946.0, 2814766.0, 78733061.0, 0.0, 191054761.0, 370875761.0, 0.0, 33552965.0, 66671464.0, 0.0, 44631428.0, 0.0, 180982377.0, 0.0, 0.0, 483625934.0, 21332859.0, 0.0, 3969002933.0, 0.0, 56250.0, 0.0, 3970175956.0, 2240119.0, 0.0, 2918035116.0, 3941693.0, 51057.0, 41096648.0, 0.0, 0.0, 0.0, 2413372.0, 1298083325.0, 0.0, 1086193205.0, 17306.0, 0.0, 648229000.0, 546517.0, 0.0, 316752340.0, 195881100.0, 168458247.0, 127474073.0, 5998416270.0, 328187977.0, 0.0]\n"
     ]
    }
   ],
   "source": [
    "total_produksi = []\n",
    "for c in list_kode:\n",
    "    produksi = df[df['kode_negara']==c]['produksi'].astype(float)\n",
    "    total_produksi.append(produksi.sum())\n",
    "print(f\"Total produksi: {total_produksi}\")\n",
    "\n",
    "max_produksi = np.asarray(total_produksi).max()\n",
    "max_produksi_idx = np.asarray(total_produksi).max()"
   ]
  },
  {
   "cell_type": "code",
   "execution_count": 223,
   "metadata": {},
   "outputs": [
    {
     "name": "stdout",
     "output_type": "stream",
     "text": [
      "    kode_negara  total_produksi\n",
      "73          SAU    1.695543e+10\n",
      "29          USA    1.323386e+10\n",
      "72          RUS    9.989339e+09\n",
      "56          IRN    7.921566e+09\n",
      "134         VEN    5.998416e+09\n",
      "..          ...             ...\n",
      "92          BWA    0.000000e+00\n",
      "95          CRI    0.000000e+00\n",
      "98          PRK    0.000000e+00\n",
      "100         DOM    0.000000e+00\n",
      "136         ZWE    0.000000e+00\n",
      "\n",
      "[137 rows x 2 columns]\n"
     ]
    }
   ],
   "source": [
    "dfC = pd.DataFrame(list(zip(list_kode, total_produksi)), columns=['kode_negara', 'total_produksi'])\n",
    "dfC = dfC.sort_values(by=['total_produksi'], ascending=False)\n",
    "print(dfC)"
   ]
  },
  {
   "cell_type": "code",
   "execution_count": 215,
   "metadata": {},
   "outputs": [
    {
     "data": {
      "text/plain": [
       "Text(0, 0.5, 'Jumlah Produksi Kumulatif')"
      ]
     },
     "execution_count": 215,
     "metadata": {},
     "output_type": "execute_result"
    },
    {
     "data": {
      "image/png": "[encoded data removed]",
      "text/plain": [
       "<Figure size 432x288 with 1 Axes>"
      ]
     },
     "metadata": {
      "needs_background": "light"
     },
     "output_type": "display_data"
    }
   ],
   "source": [
    "figC, ax = plt.subplots()\n",
    "cmap = cm.get_cmap('tab20')\n",
    "colors = cmap.colors[:len(list_negara)]\n",
    "ax.bar(dfC['kode_negara'].head(n_tampil), dfC['total_produksi'].head(n_tampil), label=negara, color=colors)\n",
    "ax.set_title(f'Grafik Jumlah Produksi Minyak \\n {n_tampil} besar Negara Secara Kumulatif')\n",
    "ax.set_xlabel(\"Kode Negara\", fontsize=13)\n",
    "ax.set_ylabel(\"Jumlah Produksi Kumulatif\", fontsize=13)\n",
    "#st.pyplot(figC)"
   ]
  },
  {
   "cell_type": "code",
   "execution_count": null,
   "metadata": {},
   "outputs": [],
   "source": [
    "# D\n",
    "#Bagian 1 (Produksi terbesar pada tahun T dan kumulatif)\n",
    "##### Tahun T\n",
    "jumlah_produksi = dfB[:1].iloc[0]['produksi']\n",
    "kode_negara = dfB[:1].iloc[0]['kode_negara']\n",
    "nama = []\n",
    "region = []\n",
    "subregion = []\n",
    "\n",
    "for i in range(len(df2)):\n",
    "    if list(df2['alpha-3'])[i]==kode_negara:\n",
    "        nama = list(df2['name'])[i]\n",
    "        region = list(df2['region'])[i]\n",
    "        subregion = list(df2['sub-region'])[i]"
   ]
  },
  {
   "cell_type": "code",
   "execution_count": null,
   "metadata": {},
   "outputs": [],
   "source": [
    "##### Kumulatif\n",
    "jumlah_produksi = dfC[:1].iloc[0]['total_produksi']\n",
    "kode_negara = dfC[:1].iloc[0]['kode_negara']\n",
    "nama = []\n",
    "region = []\n",
    "subregion = []\n",
    "\n",
    "for i in range(len(df2)):\n",
    "    if list(df2['alpha-3'])[i]==kode_negara:\n",
    "        nama = list(df2['name'])[i]\n",
    "        region = list(df2['region'])[i]\n",
    "        subregion = list(df2['sub-region'])[i]"
   ]
  },
  {
   "cell_type": "code",
   "execution_count": null,
   "metadata": {},
   "outputs": [],
   "source": [
    "# Bagian 2 (Produksi Terkecil !=0 pada Tahun T dan Kumulatif)\n",
    "##### Tahun T\n",
    "dfkT = dfB[dfB.produksi !=0]\n",
    "dfkT = dfkT.sort_values(by=['produksi'],ascending=True)\n",
    "jumlah_produksi = dfkT[:1].iloc[0]['produksi']\n",
    "kode_negara = dfkT[:1].iloc[0]['kode_negara']\n",
    "nama = []\n",
    "region = []\n",
    "subregion = []\n",
    "                                    \n",
    "for i in range(len(df2)):\n",
    "    if list(df2['alpha-3'])[i]==kode_negara:\n",
    "        nama = list(df2['name'])[i]\n",
    "        region = list(df2['region'])[i]\n",
    "        subregion  = list(df2['sub-region'])[i]"
   ]
  },
  {
   "cell_type": "code",
   "execution_count": null,
   "metadata": {},
   "outputs": [],
   "source": [
    "##### Kumulatif\n",
    "dfk = dfC[dfC.total_produksi !=0]\n",
    "dfk = dfk.sort_values(by=['total_produksi'],ascending=True)\n",
    "jumlah_produksi = dfk[:1].iloc[0]['total_produksi']\n",
    "kode_negara = dfk[:1].iloc[0]['kode_negara']\n",
    "nama = []\n",
    "region = []\n",
    "subregion = []\n",
    "\n",
    "for i in range(len(df2)):\n",
    "    if list(df2['alpha-3'])[i]==kode_negara:\n",
    "        nama = list(df2['name'])[i]\n",
    "        region = list(df2['region'])[i]\n",
    "        subregion = list(df2['sub-region'])[i]\n"
   ]
  },
  {
   "cell_type": "code",
   "execution_count": null,
   "metadata": {},
   "outputs": [],
   "source": [
    "# Bagian 3 (Produksi = 0 pada Tahun T dan Kumulatif)\n",
    "##### Tahun T\n",
    "df0T = dfB[dfB.produksi ==0]\n",
    "nama = []\n",
    "region = []\n",
    "subregion = []\n",
    "\n",
    "for i in range(len(df0T)):\n",
    "    for j in range(len(df2)):\n",
    "        if list(df0T['kode_negara'])[i]==list(df2['alpha-3'])[j]:\n",
    "            nama.append(list(df2['name'])[j])\n",
    "            region.append(list(df2['region'])[j])\n",
    "            subregion.append(list(df2['sub-region'])[j])\n",
    "\n",
    "df0T ['Negara'] = nama\n",
    "df0T ['Region'] = region\n",
    "df0T ['Sub-Region'] = subregion\n",
    "\n",
    "df0T = pd.DataFrame(df0T, columns=['Negara','kode_negara','Region','Sub-Region'])"
   ]
  },
  {
   "cell_type": "code",
   "execution_count": null,
   "metadata": {},
   "outputs": [],
   "source": [
    "##### Kumulatif\n",
    "df0K = dfC[dfC.total_produksi ==0]\n",
    "nama = []\n",
    "region = []\n",
    "subregion = []\n",
    "\n",
    "for i in range(len(df0K)):\n",
    "    for j in range(len(df2)):\n",
    "        if list(df0K['kode_negara'])[i]==list(df2['alpha-3'])[j]:\n",
    "            nama.append(list(df2['name'])[j])\n",
    "            region.append(list(df2['region'])[j])\n",
    "            subregion.append(list(df2['sub-region'])[j])\n",
    "\n",
    "df0K ['Negara'] = nama\n",
    "df0K ['Region'] = region\n",
    "df0K ['Sub-Region'] = subregion\n",
    "\n",
    "df0K = pd.DataFrame(df0K, columns=['Negara','kode_negara','Region','Sub-Region'])"
   ]
  }
 ],
 "metadata": {
  "interpreter": {
   "hash": "a3949659082f76c3dce9af69e66ef5cf512c1e4dc52678c6ac146f322361f8d5"
  },
  "kernelspec": {
   "display_name": "Python 3.9.7 64-bit",
   "language": "python",
   "name": "python3"
  },
  "language_info": {
   "codemirror_mode": {
    "name": "ipython",
    "version": 3
   },
   "file_extension": ".py",
   "mimetype": "text/x-python",
   "name": "python",
   "nbconvert_exporter": "python",
   "pygments_lexer": "ipython3",
   "version": "3.9.7"
  },
  "orig_nbformat": 4
 },
 "nbformat": 4,
 "nbformat_minor": 2
}
